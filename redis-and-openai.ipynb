{
 "cells": [
  {
   "cell_type": "code",
   "execution_count": 1,
   "id": "2b04113f",
   "metadata": {},
   "outputs": [
    {
     "name": "stdout",
     "output_type": "stream",
     "text": [
      "Defaulting to user installation because normal site-packages is not writeable\n",
      "Requirement already satisfied: redis in c:\\users\\student\\appdata\\roaming\\python\\python37\\site-packages (3.5.3)\n",
      "Requirement already satisfied: wget in c:\\users\\student\\appdata\\roaming\\python\\python37\\site-packages (3.2)\n",
      "Requirement already satisfied: pandas in c:\\users\\student\\appdata\\roaming\\python\\python37\\site-packages (1.3.5)\n",
      "Requirement already satisfied: openai in c:\\users\\student\\appdata\\roaming\\python\\python37\\site-packages (0.28.1)\n",
      "Requirement already satisfied: python-dateutil>=2.7.3 in c:\\users\\student\\appdata\\roaming\\python\\python37\\site-packages (from pandas) (2.8.2)\n",
      "Requirement already satisfied: pytz>=2017.3 in c:\\users\\student\\appdata\\roaming\\python\\python37\\site-packages (from pandas) (2023.3.post1)\n",
      "Requirement already satisfied: numpy>=1.17.3 in c:\\users\\student\\appdata\\roaming\\python\\python37\\site-packages (from pandas) (1.21.6)\n",
      "Requirement already satisfied: requests>=2.20 in c:\\users\\student\\appdata\\roaming\\python\\python37\\site-packages (from openai) (2.31.0)\n",
      "Requirement already satisfied: tqdm in c:\\users\\student\\appdata\\roaming\\python\\python37\\site-packages (from openai) (4.66.1)\n",
      "Requirement already satisfied: aiohttp in c:\\users\\student\\appdata\\roaming\\python\\python37\\site-packages (from openai) (3.8.6)\n",
      "Requirement already satisfied: typing-extensions in c:\\users\\student\\appdata\\roaming\\python\\python37\\site-packages (from openai) (4.7.1)\n",
      "Requirement already satisfied: six>=1.5 in c:\\users\\student\\appdata\\roaming\\python\\python37\\site-packages (from python-dateutil>=2.7.3->pandas) (1.16.0)\n",
      "Requirement already satisfied: charset-normalizer<4,>=2 in c:\\users\\student\\appdata\\roaming\\python\\python37\\site-packages (from requests>=2.20->openai) (3.3.1)\n",
      "Requirement already satisfied: idna<4,>=2.5 in c:\\users\\student\\appdata\\roaming\\python\\python37\\site-packages (from requests>=2.20->openai) (3.4)\n",
      "Requirement already satisfied: urllib3<3,>=1.21.1 in c:\\users\\student\\appdata\\roaming\\python\\python37\\site-packages (from requests>=2.20->openai) (2.0.7)\n",
      "Requirement already satisfied: certifi>=2017.4.17 in c:\\users\\student\\appdata\\roaming\\python\\python37\\site-packages (from requests>=2.20->openai) (2023.7.22)\n",
      "Requirement already satisfied: attrs>=17.3.0 in c:\\users\\student\\appdata\\roaming\\python\\python37\\site-packages (from aiohttp->openai) (23.1.0)\n",
      "Requirement already satisfied: multidict<7.0,>=4.5 in c:\\users\\student\\appdata\\roaming\\python\\python37\\site-packages (from aiohttp->openai) (6.0.4)\n",
      "Requirement already satisfied: async-timeout<5.0,>=4.0.0a3 in c:\\users\\student\\appdata\\roaming\\python\\python37\\site-packages (from aiohttp->openai) (4.0.3)\n",
      "Requirement already satisfied: yarl<2.0,>=1.0 in c:\\users\\student\\appdata\\roaming\\python\\python37\\site-packages (from aiohttp->openai) (1.9.2)\n",
      "Requirement already satisfied: frozenlist>=1.1.1 in c:\\users\\student\\appdata\\roaming\\python\\python37\\site-packages (from aiohttp->openai) (1.3.3)\n",
      "Requirement already satisfied: aiosignal>=1.1.2 in c:\\users\\student\\appdata\\roaming\\python\\python37\\site-packages (from aiohttp->openai) (1.3.1)\n",
      "Requirement already satisfied: asynctest==0.13.0 in c:\\users\\student\\appdata\\roaming\\python\\python37\\site-packages (from aiohttp->openai) (0.13.0)\n",
      "Requirement already satisfied: colorama in c:\\users\\student\\appdata\\roaming\\python\\python37\\site-packages (from tqdm->openai) (0.4.6)\n",
      "Requirement already satisfied: importlib-metadata in c:\\users\\student\\appdata\\roaming\\python\\python37\\site-packages (from attrs>=17.3.0->aiohttp->openai) (6.7.0)\n",
      "Requirement already satisfied: zipp>=0.5 in c:\\users\\student\\appdata\\roaming\\python\\python37\\site-packages (from importlib-metadata->attrs>=17.3.0->aiohttp->openai) (3.15.0)\n"
     ]
    }
   ],
   "source": [
    "! pip install redis wget pandas openai"
   ]
  },
  {
   "cell_type": "code",
   "execution_count": 2,
   "id": "88be138c",
   "metadata": {},
   "outputs": [
    {
     "name": "stdout",
     "output_type": "stream",
     "text": [
      "OPENAI_API_KEY is ready\n"
     ]
    }
   ],
   "source": [
    "# Test that your OpenAI API key is correctly set as an environment variable\n",
    "# Note. if you run this notebook locally, you will need to reload your terminal and the notebook for the env variables to be live.\n",
    "import os\n",
    "import openai\n",
    "\n",
    "# Note. alternatively you can set a temporary env variable like this:\n",
    "# os.environ[\"OPENAI_API_KEY\"] = 'sk-xxxxxxxxxxxxxxxxxxxxxxxxxxxxxxxxxxxxxxxx'\n",
    "\n",
    "if os.getenv(\"OPENAI_API_KEY\") is not None:\n",
    "    openai.api_key = os.getenv(\"OPENAI_API_KEY\")\n",
    "    print (\"OPENAI_API_KEY is ready\")\n",
    "else:\n",
    "    print (\"OPENAI_API_KEY environment variable not found\")"
   ]
  },
  {
   "cell_type": "code",
   "execution_count": 3,
   "id": "9fbebe0d",
   "metadata": {},
   "outputs": [
    {
     "name": "stdout",
     "output_type": "stream",
     "text": [
      "File Downloaded\n"
     ]
    },
    {
     "data": {
      "text/html": [
       "<div>\n",
       "<style scoped>\n",
       "    .dataframe tbody tr th:only-of-type {\n",
       "        vertical-align: middle;\n",
       "    }\n",
       "\n",
       "    .dataframe tbody tr th {\n",
       "        vertical-align: top;\n",
       "    }\n",
       "\n",
       "    .dataframe thead th {\n",
       "        text-align: right;\n",
       "    }\n",
       "</style>\n",
       "<table border=\"1\" class=\"dataframe\">\n",
       "  <thead>\n",
       "    <tr style=\"text-align: right;\">\n",
       "      <th></th>\n",
       "      <th>id</th>\n",
       "      <th>url</th>\n",
       "      <th>title</th>\n",
       "      <th>text</th>\n",
       "      <th>title_vector</th>\n",
       "      <th>content_vector</th>\n",
       "      <th>vector_id</th>\n",
       "    </tr>\n",
       "  </thead>\n",
       "  <tbody>\n",
       "    <tr>\n",
       "      <th>0</th>\n",
       "      <td>1</td>\n",
       "      <td>https://simple.wikipedia.org/wiki/April</td>\n",
       "      <td>April</td>\n",
       "      <td>April is the fourth month of the year in the J...</td>\n",
       "      <td>[0.001009464613161981, -0.020700545981526375, ...</td>\n",
       "      <td>[-0.011253940872848034, -0.013491976074874401,...</td>\n",
       "      <td>0</td>\n",
       "    </tr>\n",
       "    <tr>\n",
       "      <th>1</th>\n",
       "      <td>2</td>\n",
       "      <td>https://simple.wikipedia.org/wiki/August</td>\n",
       "      <td>August</td>\n",
       "      <td>August (Aug.) is the eighth month of the year ...</td>\n",
       "      <td>[0.0009286514250561595, 0.000820168002974242, ...</td>\n",
       "      <td>[0.0003609954728744924, 0.007262262050062418, ...</td>\n",
       "      <td>1</td>\n",
       "    </tr>\n",
       "    <tr>\n",
       "      <th>2</th>\n",
       "      <td>6</td>\n",
       "      <td>https://simple.wikipedia.org/wiki/Art</td>\n",
       "      <td>Art</td>\n",
       "      <td>Art is a creative activity that expresses imag...</td>\n",
       "      <td>[0.003393713850528002, 0.0061537534929811954, ...</td>\n",
       "      <td>[-0.004959689453244209, 0.015772193670272827, ...</td>\n",
       "      <td>2</td>\n",
       "    </tr>\n",
       "    <tr>\n",
       "      <th>3</th>\n",
       "      <td>8</td>\n",
       "      <td>https://simple.wikipedia.org/wiki/A</td>\n",
       "      <td>A</td>\n",
       "      <td>A or a is the first letter of the English alph...</td>\n",
       "      <td>[0.0153952119871974, -0.013759135268628597, 0....</td>\n",
       "      <td>[0.024894846603274345, -0.022186409682035446, ...</td>\n",
       "      <td>3</td>\n",
       "    </tr>\n",
       "    <tr>\n",
       "      <th>4</th>\n",
       "      <td>9</td>\n",
       "      <td>https://simple.wikipedia.org/wiki/Air</td>\n",
       "      <td>Air</td>\n",
       "      <td>Air refers to the Earth's atmosphere. Air is a...</td>\n",
       "      <td>[0.02224554680287838, -0.02044147066771984, -0...</td>\n",
       "      <td>[0.021524671465158463, 0.018522677943110466, -...</td>\n",
       "      <td>4</td>\n",
       "    </tr>\n",
       "  </tbody>\n",
       "</table>\n",
       "</div>"
      ],
      "text/plain": [
       "   id                                       url   title  \\\n",
       "0   1   https://simple.wikipedia.org/wiki/April   April   \n",
       "1   2  https://simple.wikipedia.org/wiki/August  August   \n",
       "2   6     https://simple.wikipedia.org/wiki/Art     Art   \n",
       "3   8       https://simple.wikipedia.org/wiki/A       A   \n",
       "4   9     https://simple.wikipedia.org/wiki/Air     Air   \n",
       "\n",
       "                                                text  \\\n",
       "0  April is the fourth month of the year in the J...   \n",
       "1  August (Aug.) is the eighth month of the year ...   \n",
       "2  Art is a creative activity that expresses imag...   \n",
       "3  A or a is the first letter of the English alph...   \n",
       "4  Air refers to the Earth's atmosphere. Air is a...   \n",
       "\n",
       "                                        title_vector  \\\n",
       "0  [0.001009464613161981, -0.020700545981526375, ...   \n",
       "1  [0.0009286514250561595, 0.000820168002974242, ...   \n",
       "2  [0.003393713850528002, 0.0061537534929811954, ...   \n",
       "3  [0.0153952119871974, -0.013759135268628597, 0....   \n",
       "4  [0.02224554680287838, -0.02044147066771984, -0...   \n",
       "\n",
       "                                      content_vector vector_id  \n",
       "0  [-0.011253940872848034, -0.013491976074874401,...         0  \n",
       "1  [0.0003609954728744924, 0.007262262050062418, ...         1  \n",
       "2  [-0.004959689453244209, 0.015772193670272827, ...         2  \n",
       "3  [0.024894846603274345, -0.022186409682035446, ...         3  \n",
       "4  [0.021524671465158463, 0.018522677943110466, -...         4  "
      ]
     },
     "execution_count": 3,
     "metadata": {},
     "output_type": "execute_result"
    }
   ],
   "source": [
    "import sys\n",
    "import numpy as np\n",
    "import pandas as pd\n",
    "from typing import List\n",
    "\n",
    "# use helper function in nbutils.py to download and read the data\n",
    "# this should take from 5-10 min to run\n",
    "if os.getcwd() not in sys.path:\n",
    "    sys.path.append(os.getcwd())\n",
    "import nbutils\n",
    "\n",
    "nbutils.download_wikipedia_data()\n",
    "data = nbutils.read_wikipedia_data()\n",
    "\n",
    "data.head()"
   ]
  },
  {
   "cell_type": "code",
   "execution_count": 4,
   "id": "cc662c1b",
   "metadata": {},
   "outputs": [
    {
     "data": {
      "text/plain": [
       "True"
      ]
     },
     "execution_count": 4,
     "metadata": {},
     "output_type": "execute_result"
    }
   ],
   "source": [
    "import redis\n",
    "from redis.commands.search.indexDefinition import (\n",
    "    IndexDefinition,\n",
    "    IndexType\n",
    ")\n",
    "from redis.commands.search.query import Query\n",
    "from redis.commands.search.field import (\n",
    "    TextField,\n",
    "    VectorField\n",
    ")\n",
    "\n",
    "REDIS_HOST =  \"localhost\"\n",
    "REDIS_PORT = 6379\n",
    "REDIS_PASSWORD = \"\" # default for passwordless Redis\n",
    "\n",
    "# Connect to Redis\n",
    "redis_client = redis.Redis(\n",
    "    host=REDIS_HOST,\n",
    "    port=REDIS_PORT,\n",
    "    password=REDIS_PASSWORD\n",
    ")\n",
    "redis_client.ping()"
   ]
  },
  {
   "cell_type": "code",
   "execution_count": 5,
   "id": "f894b911",
   "metadata": {
    "scrolled": true
   },
   "outputs": [],
   "source": [
    "# Constants\n",
    "VECTOR_DIM = len(data['title_vector'][0]) # length of the vectors\n",
    "VECTOR_NUMBER = len(data)                 # initial number of vectors\n",
    "INDEX_NAME = \"embeddings-index\"           # name of the search index\n",
    "PREFIX = \"doc\"                            # prefix for the document keys\n",
    "DISTANCE_METRIC = \"COSINE\"                # distance metric for the vectors (ex. COSINE, IP, L2)"
   ]
  },
  {
   "cell_type": "code",
   "execution_count": 6,
   "id": "15db8380",
   "metadata": {},
   "outputs": [],
   "source": [
    "# Define RediSearch fields for each of the columns in the dataset\n",
    "title = TextField(name=\"title\")\n",
    "url = TextField(name=\"url\")\n",
    "text = TextField(name=\"text\")\n",
    "title_embedding = VectorField(\"title_vector\",\n",
    "    \"FLAT\", {\n",
    "        \"TYPE\": \"FLOAT32\",\n",
    "        \"DIM\": VECTOR_DIM,\n",
    "        \"DISTANCE_METRIC\": DISTANCE_METRIC,\n",
    "        \"INITIAL_CAP\": VECTOR_NUMBER,\n",
    "    }\n",
    ")\n",
    "text_embedding = VectorField(\"content_vector\",\n",
    "    \"FLAT\", {\n",
    "        \"TYPE\": \"FLOAT32\",\n",
    "        \"DIM\": VECTOR_DIM,\n",
    "        \"DISTANCE_METRIC\": DISTANCE_METRIC,\n",
    "        \"INITIAL_CAP\": VECTOR_NUMBER,\n",
    "    }\n",
    ")\n",
    "fields = [title, url, text, title_embedding, text_embedding]"
   ]
  },
  {
   "cell_type": "code",
   "execution_count": 7,
   "id": "3658693c",
   "metadata": {},
   "outputs": [],
   "source": [
    "# Check if index exists\n",
    "try:\n",
    "    redis_client.ft(INDEX_NAME).info()\n",
    "    print(\"Index already exists\")\n",
    "except:\n",
    "    # Create RediSearch Index\n",
    "    redis_client.ft(INDEX_NAME).create_index(\n",
    "        fields = fields,\n",
    "        definition = IndexDefinition(prefix=[PREFIX], index_type=IndexType.HASH)\n",
    ")"
   ]
  },
  {
   "cell_type": "code",
   "execution_count": 8,
   "id": "0d791186",
   "metadata": {},
   "outputs": [],
   "source": [
    "def index_documents(client: redis.Redis, prefix: str, documents: pd.DataFrame):\n",
    "    records = documents.to_dict(\"records\")\n",
    "    for doc in records:\n",
    "        key = f\"{prefix}:{str(doc['id'])}\"\n",
    "\n",
    "        # create byte vectors for title and content\n",
    "        title_embedding = np.array(doc[\"title_vector\"], dtype=np.float32).tobytes()\n",
    "        content_embedding = np.array(doc[\"content_vector\"], dtype=np.float32).tobytes()\n",
    "\n",
    "        # replace list of floats with byte vectors\n",
    "        doc[\"title_vector\"] = title_embedding\n",
    "        doc[\"content_vector\"] = content_embedding\n",
    "\n",
    "        client.hset(key, mapping = doc)"
   ]
  },
  {
   "cell_type": "code",
   "execution_count": 9,
   "id": "5bfaeafa",
   "metadata": {},
   "outputs": [
    {
     "name": "stdout",
     "output_type": "stream",
     "text": [
      "Loaded 25000 documents in Redis search index with name: embeddings-index\n"
     ]
    }
   ],
   "source": [
    "index_documents(redis_client, PREFIX, data)\n",
    "print(f\"Loaded {redis_client.info()['db0']['keys']} documents in Redis search index with name: {INDEX_NAME}\")"
   ]
  },
  {
   "cell_type": "code",
   "execution_count": 10,
   "id": "b044aa93",
   "metadata": {},
   "outputs": [],
   "source": [
    "def search_redis(\n",
    "    redis_client: redis.Redis,\n",
    "    user_query: str,\n",
    "    index_name: str = \"embeddings-index\",\n",
    "    vector_field: str = \"title_vector\",\n",
    "    return_fields: list = [\"title\", \"url\", \"text\", \"vector_score\"],\n",
    "    hybrid_fields = \"*\",\n",
    "    k: int = 20,\n",
    "    print_results: bool = True,\n",
    ") -> List[dict]:\n",
    "\n",
    "    # Creates embedding vector from user query\n",
    "    embedded_query = openai.Embedding.create(input=user_query,\n",
    "                                            model=\"text-embedding-ada-002\",\n",
    "                                            )[\"data\"][0]['embedding']\n",
    "\n",
    "    # Prepare the Query\n",
    "    base_query = f'{hybrid_fields}=>[KNN {k} @{vector_field} $vector AS vector_score]'\n",
    "    query = (\n",
    "        Query(base_query)\n",
    "         .return_fields(*return_fields)\n",
    "         .sort_by(\"vector_score\")\n",
    "         .paging(0, k)\n",
    "         .dialect(2)\n",
    "    )\n",
    "    params_dict = {\"vector\": np.array(embedded_query).astype(dtype=np.float32).tobytes()}\n",
    "\n",
    "    # perform vector search\n",
    "    results = redis_client.ft(index_name).search(query, params_dict)\n",
    "    if print_results:\n",
    "        for i, article in enumerate(results.docs):\n",
    "            score = 1 - float(article.vector_score)\n",
    "            print(f\"{i}. {article.title} (Score: {round(score ,3) })\")\n",
    "    return results.docs"
   ]
  },
  {
   "cell_type": "code",
   "execution_count": 11,
   "id": "7e2025f6",
   "metadata": {},
   "outputs": [
    {
     "name": "stdout",
     "output_type": "stream",
     "text": [
      "0. Museum of Modern Art (Score: 0.875)\n",
      "1. Western Europe (Score: 0.868)\n",
      "2. Renaissance art (Score: 0.864)\n",
      "3. Pop art (Score: 0.86)\n",
      "4. Northern Europe (Score: 0.855)\n",
      "5. Hellenistic art (Score: 0.853)\n",
      "6. Modernist literature (Score: 0.847)\n",
      "7. Art film (Score: 0.843)\n",
      "8. Central Europe (Score: 0.843)\n",
      "9. European (Score: 0.841)\n"
     ]
    }
   ],
   "source": [
    "# For using OpenAI to generate query embedding\n",
    "results = search_redis(redis_client, 'modern art in Europe', k=10)"
   ]
  },
  {
   "cell_type": "code",
   "execution_count": 12,
   "id": "93c4a696",
   "metadata": {},
   "outputs": [
    {
     "name": "stdout",
     "output_type": "stream",
     "text": [
      "0. Battle of Bannockburn (Score: 0.869)\n",
      "1. Wars of Scottish Independence (Score: 0.861)\n",
      "2. 1651 (Score: 0.853)\n",
      "3. First War of Scottish Independence (Score: 0.85)\n",
      "4. Robert I of Scotland (Score: 0.846)\n",
      "5. 841 (Score: 0.844)\n",
      "6. 1716 (Score: 0.844)\n",
      "7. 1314 (Score: 0.837)\n",
      "8. 1263 (Score: 0.836)\n",
      "9. William Wallace (Score: 0.835)\n"
     ]
    }
   ],
   "source": [
    "results = search_redis(redis_client, 'Famous battles in Scottish history', vector_field='content_vector', k=10)"
   ]
  },
  {
   "cell_type": "code",
   "execution_count": 13,
   "id": "6c25ee8d",
   "metadata": {},
   "outputs": [
    {
     "name": "stdout",
     "output_type": "stream",
     "text": [
      "0. First War of Scottish Independence (Score: 0.892)\n",
      "1. Wars of Scottish Independence (Score: 0.889)\n",
      "2. Second War of Scottish Independence (Score: 0.879)\n",
      "3. List of Scottish monarchs (Score: 0.873)\n",
      "4. Scottish Borders (Score: 0.863)\n"
     ]
    }
   ],
   "source": [
    "def create_hybrid_field(field_name: str, value: str) -> str:\n",
    "    return f'@{field_name}:\"{value}\"'\n",
    "\n",
    "# search the content vector for articles about famous battles in Scottish history and only include results with Scottish in the title\n",
    "results = search_redis(redis_client,\n",
    "                       \"Famous battles in Scottish history\",\n",
    "                       vector_field=\"title_vector\",\n",
    "                       k=5,\n",
    "                       hybrid_fields=create_hybrid_field(\"title\", \"Scottish\")\n",
    "                       )"
   ]
  },
  {
   "cell_type": "code",
   "execution_count": 14,
   "id": "2c0d11d8",
   "metadata": {},
   "outputs": [
    {
     "name": "stdout",
     "output_type": "stream",
     "text": [
      "0. Art (Score: 1.0)\n",
      "1. Paint (Score: 0.896)\n",
      "2. Renaissance art (Score: 0.88)\n",
      "3. Painting (Score: 0.874)\n",
      "4. Renaissance (Score: 0.846)\n"
     ]
    },
    {
     "data": {
      "text/plain": [
       "'In Europe, after the Middle Ages, there was a \"Renaissance\" which means \"rebirth\". People rediscovered science and artists were allowed to paint subjects other than religious subjects. People like Michelangelo and Leonardo da Vinci still painted religious pictures, but they also now could paint mythological pictures too. These artists also invented perspective where things in the distance look smaller in the picture. This was new because in the Middle Ages people would paint all the figures close up and just overlapping each other. These artists used nudity regularly in their art.'"
      ]
     },
     "execution_count": 14,
     "metadata": {},
     "output_type": "execute_result"
    }
   ],
   "source": [
    "# run a hybrid query for articles about Art in the title vector and only include results with the phrase \"Leonardo da Vinci\" in the text\n",
    "results = search_redis(redis_client,\n",
    "                       \"Art\",\n",
    "                       vector_field=\"title_vector\",\n",
    "                       k=5,\n",
    "                       hybrid_fields=create_hybrid_field(\"text\", \"Leonardo da Vinci\")\n",
    "                       )\n",
    "\n",
    "# find specific mention of Leonardo da Vinci in the text that our full-text-search query returned\n",
    "mention = [sentence for sentence in results[0].text.split(\"\\n\") if \"Leonardo da Vinci\" in sentence][0]\n",
    "mention"
   ]
  },
  {
   "cell_type": "code",
   "execution_count": 15,
   "id": "865c30f3",
   "metadata": {},
   "outputs": [],
   "source": [
    "# re-define RediSearch vector fields to use HNSW index\n",
    "title_embedding = VectorField(\"title_vector\",\n",
    "    \"HNSW\", {\n",
    "        \"TYPE\": \"FLOAT32\",\n",
    "        \"DIM\": VECTOR_DIM,\n",
    "        \"DISTANCE_METRIC\": DISTANCE_METRIC,\n",
    "        \"INITIAL_CAP\": VECTOR_NUMBER\n",
    "    }\n",
    ")\n",
    "text_embedding = VectorField(\"content_vector\",\n",
    "    \"HNSW\", {\n",
    "        \"TYPE\": \"FLOAT32\",\n",
    "        \"DIM\": VECTOR_DIM,\n",
    "        \"DISTANCE_METRIC\": DISTANCE_METRIC,\n",
    "        \"INITIAL_CAP\": VECTOR_NUMBER\n",
    "    }\n",
    ")\n",
    "fields = [title, url, text, title_embedding, text_embedding]"
   ]
  },
  {
   "cell_type": "code",
   "execution_count": 16,
   "id": "347e1e70",
   "metadata": {},
   "outputs": [],
   "source": [
    "import time\n",
    "# Check if index exists\n",
    "HNSW_INDEX_NAME = INDEX_NAME+ \"_HNSW\"\n",
    "\n",
    "try:\n",
    "    redis_client.ft(HNSW_INDEX_NAME).info()\n",
    "    print(\"Index already exists\")\n",
    "except:\n",
    "    # Create RediSearch Index\n",
    "    redis_client.ft(HNSW_INDEX_NAME).create_index(\n",
    "        fields = fields,\n",
    "        definition = IndexDefinition(prefix=[PREFIX], index_type=IndexType.HASH)\n",
    "    )\n",
    "\n",
    "# since RediSearch creates the index in the background for existing documents, we will wait until\n",
    "# indexing is complete before running our queries. Although this is not necessary for the first query,\n",
    "# some queries may take longer to run if the index is not fully built. In general, Redis will perform\n",
    "# best when adding new documents to existing indices rather than new indices on existing documents.\n",
    "while redis_client.ft(HNSW_INDEX_NAME).info()[\"indexing\"] == \"1\":\n",
    "    time.sleep(5)"
   ]
  },
  {
   "cell_type": "code",
   "execution_count": 17,
   "id": "8e474447",
   "metadata": {},
   "outputs": [
    {
     "name": "stdout",
     "output_type": "stream",
     "text": [
      "0. Western Europe (Score: 0.868)\n",
      "1. Northern Europe (Score: 0.855)\n",
      "2. Central Europe (Score: 0.843)\n",
      "3. European (Score: 0.841)\n",
      "4. Eastern Europe (Score: 0.839)\n",
      "5. Europe (Score: 0.839)\n",
      "6. Western European Union (Score: 0.837)\n",
      "7. Southern Europe (Score: 0.831)\n",
      "8. Western civilization (Score: 0.83)\n",
      "9. Council of Europe (Score: 0.827)\n"
     ]
    }
   ],
   "source": [
    "results = search_redis(redis_client, 'modern art in Europe', index_name=HNSW_INDEX_NAME, k=10)"
   ]
  },
  {
   "cell_type": "code",
   "execution_count": 18,
   "id": "cb799e69",
   "metadata": {},
   "outputs": [
    {
     "name": "stdout",
     "output_type": "stream",
     "text": [
      " ----- Flat Index ----- \n",
      "0. Museum of Modern Art (Score: 0.875)\n",
      "1. Western Europe (Score: 0.867)\n",
      "2. Renaissance art (Score: 0.864)\n",
      "3. Pop art (Score: 0.861)\n",
      "4. Northern Europe (Score: 0.855)\n",
      "5. Hellenistic art (Score: 0.853)\n",
      "6. Modernist literature (Score: 0.847)\n",
      "7. Art film (Score: 0.843)\n",
      "8. Central Europe (Score: 0.843)\n",
      "9. Art (Score: 0.842)\n",
      "Flat index query time: 0.263 seconds\n",
      "\n",
      " ----- HNSW Index ------ \n",
      "0. Western Europe (Score: 0.867)\n",
      "1. Northern Europe (Score: 0.855)\n",
      "2. Central Europe (Score: 0.843)\n",
      "3. European (Score: 0.841)\n",
      "4. Eastern Europe (Score: 0.839)\n",
      "5. Europe (Score: 0.839)\n",
      "6. Western European Union (Score: 0.837)\n",
      "7. Southern Europe (Score: 0.831)\n",
      "8. Western civilization (Score: 0.83)\n",
      "9. Council of Europe (Score: 0.827)\n",
      "HNSW index query time: 0.129 seconds\n",
      " ------------------------ \n"
     ]
    }
   ],
   "source": [
    "# compare the results of the HNSW index to the FLAT index and time both queries\n",
    "def time_queries(iterations: int = 10):\n",
    "    print(\" ----- Flat Index ----- \")\n",
    "    t0 = time.time()\n",
    "    for i in range(iterations):\n",
    "        results_flat = search_redis(redis_client, 'modern art in Europe', k=10, print_results=False)\n",
    "    t0 = (time.time() - t0) / iterations\n",
    "    results_flat = search_redis(redis_client, 'modern art in Europe', k=10, print_results=True)\n",
    "    print(f\"Flat index query time: {round(t0, 3)} seconds\\n\")\n",
    "    time.sleep(1)\n",
    "    print(\" ----- HNSW Index ------ \")\n",
    "    t1 = time.time()\n",
    "    for i in range(iterations):\n",
    "        results_hnsw = search_redis(redis_client, 'modern art in Europe', index_name=HNSW_INDEX_NAME, k=10, print_results=False)\n",
    "    t1 = (time.time() - t1) / iterations\n",
    "    results_hnsw = search_redis(redis_client, 'modern art in Europe', index_name=HNSW_INDEX_NAME, k=10, print_results=True)\n",
    "    print(f\"HNSW index query time: {round(t1, 3)} seconds\")\n",
    "    print(\" ------------------------ \")\n",
    "time_queries()"
   ]
  },
  {
   "cell_type": "code",
   "execution_count": null,
   "id": "69aa7a09",
   "metadata": {},
   "outputs": [],
   "source": []
  }
 ],
 "metadata": {
  "kernelspec": {
   "display_name": "redisvl2",
   "language": "python",
   "name": "python3"
  },
  "language_info": {
   "codemirror_mode": {
    "name": "ipython",
    "version": 3
   },
   "file_extension": ".py",
   "mimetype": "text/x-python",
   "name": "python",
   "nbconvert_exporter": "python",
   "pygments_lexer": "ipython3",
   "version": "3.7.4"
  },
  "vscode": {
   "interpreter": {
    "hash": "9b1e6e9c2967143209c2f955cb869d1d3234f92dc4787f49f155f3abbdfb1316"
   }
  }
 },
 "nbformat": 4,
 "nbformat_minor": 5
}
